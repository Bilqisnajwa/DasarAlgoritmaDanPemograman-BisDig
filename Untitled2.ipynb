{
  "nbformat": 4,
  "nbformat_minor": 0,
  "metadata": {
    "colab": {
      "provenance": [],
      "authorship_tag": "ABX9TyM8Xlz9D8qPVKi4jLtpT+Bt",
      "include_colab_link": true
    },
    "kernelspec": {
      "name": "python3",
      "display_name": "Python 3"
    },
    "language_info": {
      "name": "python"
    }
  },
  "cells": [
    {
      "cell_type": "markdown",
      "metadata": {
        "id": "view-in-github",
        "colab_type": "text"
      },
      "source": [
        "<a href=\"https://colab.research.google.com/github/Bilqisnajwa/DasarAlgoritmaDanPemograman-BisDig/blob/main/Untitled2.ipynb\" target=\"_parent\"><img src=\"https://colab.research.google.com/assets/colab-badge.svg\" alt=\"Open In Colab\"/></a>"
      ]
    },
    {
      "cell_type": "markdown",
      "source": [
        "Studi kasus 1"
      ],
      "metadata": {
        "id": "_EzqEDBh5tLu"
      }
    },
    {
      "cell_type": "code",
      "execution_count": 1,
      "metadata": {
        "colab": {
          "base_uri": "https://localhost:8080/"
        },
        "id": "gJRMup0j19ia",
        "outputId": "2477a3ea-aa2a-466d-d6a9-04b5f79c8674"
      },
      "outputs": [
        {
          "output_type": "stream",
          "name": "stdout",
          "text": [
            "Masukkan sebuah bilangan bulat non-negatif: 60\n",
            "Faktorial dari 60 adalah 8320987112741390144276341183223364380754172606361245952449277696409600000000000000\n"
          ]
        }
      ],
      "source": [
        "def faktorial_rekursif(n):\n",
        "  \"\"\"\n",
        "  Menghitung faktorial dari bilangan n menggunakan rekursi.\n",
        "\n",
        "  Args:\n",
        "    n: Bilangan bulat non-negatif.\n",
        "\n",
        "  Returns:\n",
        "    Faktorial dari n.\n",
        "    Mengembalikan 1 jika n adalah 0.\n",
        "    Mengembalikan pesan kesalahan jika n negatif.\n",
        "  \"\"\"\n",
        "  if n < 0:\n",
        "    return \"Faktorial tidak terdefinisi untuk bilangan negatif\"\n",
        "  elif n == 0:\n",
        "    return 1\n",
        "  else:\n",
        "    return n * faktorial_rekursif(n - 1)\n",
        "\n",
        "# Meminta input dari pengguna\n",
        "angka = int(input(\"Masukkan sebuah bilangan bulat non-negatif: \"))\n",
        "\n",
        "# Menghitung faktorial\n",
        "hasil_faktorial = faktorial_rekursif(angka)\n",
        "\n",
        "# Menampilkan hasil\n",
        "print(f\"Faktorial dari {angka} adalah {hasil_faktorial}\")"
      ]
    },
    {
      "cell_type": "markdown",
      "source": [
        "Studi Kasus 2"
      ],
      "metadata": {
        "id": "NFFM4oQT7IWV"
      }
    },
    {
      "cell_type": "code",
      "source": [
        "# Inisialisasi list kosong untuk menyimpan nilai siswa\n",
        "nilai_siswa = []\n",
        "\n",
        "# Meminta input nilai dari 5 siswa menggunakan perulangan\n",
        "for i in range(5):\n",
        "    while True:\n",
        "        try:\n",
        "            nilai = float(input(f\"Masukkan nilai siswa ke-{i+1}: \"))\n",
        "            if 0 <= nilai <= 100:  # Memastikan nilai berada dalam rentang 0-100\n",
        "                nilai_siswa.append(nilai)\n",
        "                break\n",
        "            else:\n",
        "                print(\"Nilai harus berada di antara 0 dan 100.\")\n",
        "        except ValueError:\n",
        "            print(\"Input tidak valid. Masukkan angka.\")\n",
        "\n",
        "# Mencari nilai tertinggi\n",
        "nilai_tertinggi = nilai_siswa[0]\n",
        "indeks_tertinggi = 0\n",
        "\n",
        "for i in range(1, len(nilai_siswa)):\n",
        "    if nilai_siswa[i] > nilai_tertinggi:\n",
        "        nilai_tertinggi = nilai_siswa[i]\n",
        "        indeks_tertinggi = i\n",
        "\n",
        "# Menampilkan hasil\n",
        "print(\"\\n--- Hasil ---\")\n",
        "print(f\"Nilai tertinggi adalah: {nilai_tertinggi}\")\n",
        "print(f\"Didapatkan oleh siswa ke-{indeks_tertinggi + 1}\")"
      ],
      "metadata": {
        "colab": {
          "base_uri": "https://localhost:8080/"
        },
        "id": "KLFH7seI5RVu",
        "outputId": "7fb57a1a-e7d6-4395-9049-aac549dc70f1"
      },
      "execution_count": 3,
      "outputs": [
        {
          "output_type": "stream",
          "name": "stdout",
          "text": [
            "Masukkan nilai siswa ke-1: 88\n",
            "Masukkan nilai siswa ke-2: 95\n",
            "Masukkan nilai siswa ke-3: 76\n",
            "Masukkan nilai siswa ke-4: 67\n",
            "Masukkan nilai siswa ke-5: 46\n",
            "\n",
            "--- Hasil ---\n",
            "Nilai tertinggi adalah: 95.0\n",
            "Didapatkan oleh siswa ke-2\n"
          ]
        }
      ]
    },
    {
      "cell_type": "markdown",
      "source": [
        "Studi Kasus 3"
      ],
      "metadata": {
        "id": "AEsiqbeO63Gl"
      }
    },
    {
      "cell_type": "code",
      "source": [
        "def hitung_total_bayar(total_belanja):\n",
        "  \"\"\"\n",
        "  Menghitung total pembayaran setelah diskon jika memenuhi syarat.\n",
        "\n",
        "  Args:\n",
        "    total_belanja: Jumlah total belanja pelanggan.\n",
        "\n",
        "  Returns:\n",
        "    Jumlah total yang harus dibayar setelah diskon (jika ada).\n",
        "  \"\"\"\n",
        "  batas_diskon = 500000\n",
        "  persentase_diskon = 0.10  # 10%\n",
        "\n",
        "  if total_belanja > batas_diskon:\n",
        "    jumlah_diskon = total_belanja * persentase_diskon\n",
        "    total_bayar = total_belanja - jumlah_diskon\n",
        "    print(\"Selamat! Anda mendapatkan diskon 10%.\")\n",
        "  else:\n",
        "    total_bayar = total_belanja\n",
        "    print(\"Total belanja Anda belum memenuhi syarat untuk mendapatkan diskon.\")\n",
        "\n",
        "  return total_bayar\n",
        "\n",
        "# Contoh penggunaan\n",
        "belanja = float(input(\"Masukkan total belanja Anda: Rp \"))\n",
        "total_pembayaran = hitung_total_bayar(belanja)\n",
        "print(f\"Total yang harus Anda bayar adalah: Rp {total_pembayaran:,.2f}\")"
      ],
      "metadata": {
        "colab": {
          "base_uri": "https://localhost:8080/"
        },
        "id": "6a44kCn362FQ",
        "outputId": "92be3234-7f3f-4719-bb68-be37385f5c11"
      },
      "execution_count": 5,
      "outputs": [
        {
          "output_type": "stream",
          "name": "stdout",
          "text": [
            "Masukkan total belanja Anda: Rp 1000000\n",
            "Selamat! Anda mendapatkan diskon 10%.\n",
            "Total yang harus Anda bayar adalah: Rp 900,000.00\n"
          ]
        }
      ]
    }
  ]
}