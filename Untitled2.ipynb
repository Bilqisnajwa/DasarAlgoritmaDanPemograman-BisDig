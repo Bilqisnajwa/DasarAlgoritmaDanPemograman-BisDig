{
  "nbformat": 4,
  "nbformat_minor": 0,
  "metadata": {
    "colab": {
      "provenance": [],
      "authorship_tag": "ABX9TyOjoqTo3Tyqh4qArxoHBiRd",
      "include_colab_link": true
    },
    "kernelspec": {
      "name": "python3",
      "display_name": "Python 3"
    },
    "language_info": {
      "name": "python"
    }
  },
  "cells": [
    {
      "cell_type": "markdown",
      "metadata": {
        "id": "view-in-github",
        "colab_type": "text"
      },
      "source": [
        "<a href=\"https://colab.research.google.com/github/Bilqisnajwa/DasarAlgoritmaDanPemograman-BisDig/blob/main/Untitled2.ipynb\" target=\"_parent\"><img src=\"https://colab.research.google.com/assets/colab-badge.svg\" alt=\"Open In Colab\"/></a>"
      ]
    },
    {
      "cell_type": "code",
      "execution_count": 1,
      "metadata": {
        "colab": {
          "base_uri": "https://localhost:8080/"
        },
        "id": "gJRMup0j19ia",
        "outputId": "2477a3ea-aa2a-466d-d6a9-04b5f79c8674"
      },
      "outputs": [
        {
          "output_type": "stream",
          "name": "stdout",
          "text": [
            "Masukkan sebuah bilangan bulat non-negatif: 60\n",
            "Faktorial dari 60 adalah 8320987112741390144276341183223364380754172606361245952449277696409600000000000000\n"
          ]
        }
      ],
      "source": [
        "def faktorial_rekursif(n):\n",
        "  \"\"\"\n",
        "  Menghitung faktorial dari bilangan n menggunakan rekursi.\n",
        "\n",
        "  Args:\n",
        "    n: Bilangan bulat non-negatif.\n",
        "\n",
        "  Returns:\n",
        "    Faktorial dari n.\n",
        "    Mengembalikan 1 jika n adalah 0.\n",
        "    Mengembalikan pesan kesalahan jika n negatif.\n",
        "  \"\"\"\n",
        "  if n < 0:\n",
        "    return \"Faktorial tidak terdefinisi untuk bilangan negatif\"\n",
        "  elif n == 0:\n",
        "    return 1\n",
        "  else:\n",
        "    return n * faktorial_rekursif(n - 1)\n",
        "\n",
        "# Meminta input dari pengguna\n",
        "angka = int(input(\"Masukkan sebuah bilangan bulat non-negatif: \"))\n",
        "\n",
        "# Menghitung faktorial\n",
        "hasil_faktorial = faktorial_rekursif(angka)\n",
        "\n",
        "# Menampilkan hasil\n",
        "print(f\"Faktorial dari {angka} adalah {hasil_faktorial}\")"
      ]
    }
  ]
}